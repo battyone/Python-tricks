{
 "cells": [
  {
   "cell_type": "markdown",
   "metadata": {},
   "source": [
    "<h1><span style=\"color: #46DC8F\">Производная. Определение и базовые теоремы</span></h1>"
   ]
  },
  {
   "cell_type": "markdown",
   "metadata": {},
   "source": [
    "В этом документе мы вспомним определение производной и несколько теорем, которые даются в начале курса изучения математического анализа."
   ]
  },
  {
   "cell_type": "markdown",
   "metadata": {},
   "source": [
    "<span style=\"color:#A7A6A6\">Def. </span>Пусть функция $y = f(x)$ определена в некоторой окрестности точки $x_0$. \n",
    "\n",
    "Обозначим изменение аргумента как $\\Delta x = x - x_0$, а изменение функции при изменении аргумента $\\Delta y = f(x_0 + \\Delta x) - f(x_0)$.\n",
    "\n",
    "Тогда если существует конечный предел: $$\\lim_{\\Delta x \\to 0} \\frac{\\Delta y}{\\Delta x} = f^{'}(x_0) \\in \\mathbb{R}$$\n",
    "\n",
    "то этот предел называется производной функции $f(x)$ в точке $x_0$. А операция вычисления производной называется дифференцированием.\n"
   ]
  },
  {
   "cell_type": "markdown",
   "metadata": {},
   "source": [
    "Пример 1.\n",
    "Вычислить производные $y = sin(x)$, $y = a^x$.\n",
    "\n",
    "1) $y = sin(x)$\n",
    "\n",
    "$$\\Delta y = sin(\\Delta x + x) - sin(x) = 2 \\cdot cos(x + \\frac{\\Delta x}{2})\\cdot sin(\\frac{\\Delta x}{2})$$\n",
    "\n",
    "$$\\frac{\\Delta y}{\\Delta x} = cos(x + \\frac{\\Delta x}{2}) \\cdot \\frac{sin \\frac{\\Delta x}{2}}{\\frac{\\Delta x}{2}}$$\n",
    "$$Rem. \\lim_{t \\to 0} \\frac{\\sin t}{t} = 1$$\n",
    "$$\\lim_{\\Delta x \\to 0} \\frac{\\Delta y}{\\Delta x} = \\lim_{\\Delta x \\to 0} cos(x + \\frac{\\Delta x}{2}) = cos x$$\n",
    "\n",
    "$$(sin \\text{ x})^{'} = cos x$$\n",
    "\n",
    "2) $y = a^x$\n",
    "\n",
    "$$\\Delta y = a^{x + \\Delta x} - a^x = a^x(a^{\\Delta x} - 1)$$\n",
    "$$\\frac{\\Delta y}{\\Delta x} = a^x \\cdot \\frac{a^{\\Delta x} - 1}{\\Delta x}$$\n",
    "$$Rem. \\lim_{t \\to 0} \\frac{a^t - 1}{t} = ln a$$\n",
    "$$\\lim_{\\Delta x \\to 0} \\frac{\\Delta y}{\\Delta x} = \\lim_{\\Delta x \\to 0} a^x \\cdot \\frac{a^{\\Delta x} - 1}{\\Delta x} = a^x \\cdot ln a$$ \n",
    "$$(a^x)^{'} = a^x \\cdot ln a$$"
   ]
  },
  {
   "cell_type": "markdown",
   "metadata": {},
   "source": [
    "<span style=\"color:#A7A6A6\">Def.</span> Функция $f(x)$, определённая в некой окресности точки $x_0$ называется непрерывной в точке $x_0$, если:\n",
    "\n",
    "$$\\lim_{x \\to x_0} f(x) = f(x_0)$$"
   ]
  },
  {
   "cell_type": "markdown",
   "metadata": {},
   "source": [
    "<span style=\"color:#A7A6A6\">Th 1.</span> Если функция $f(x)$ имеет производную в точке $x_0$, то она непрерывна в этой же точке. \n",
    " \n",
    "$$\\circ $$\n",
    "$$ f^{'}(x_0) = \\lim_{\\Delta x \\to 0} \\frac{\\Delta y}{\\Delta x} \\Rightarrow \\frac{\\Delta y}{\\Delta x} - f^{'}(x_0) = \\epsilon(\\Delta x) \\text{, где } \\epsilon(\\Delta x) \\rightarrow 0 \\text{ при } \\Delta x \\rightarrow 0$$\n",
    "$$\\Delta y = f^{'}(x_0) \\cdot \\Delta x + \\Delta x \\cdot \\epsilon(\\Delta x)$$\n",
    "$$\\lim_{\\Delta x \\to 0} \\Delta y = \\lim_{\\Delta x \\to 0} f^{'}(x_0) \\cdot \\Delta x + \\Delta x \\cdot \\epsilon(\\Delta x) = 0 \\Rightarrow \\text{функция непрерывна в точке } x_0$$\n",
    "$$\\bullet$$\n"
   ]
  },
  {
   "cell_type": "markdown",
   "metadata": {},
   "source": [
    "<h3><span style=\"color: #31E6F0\">Арифметические  свойства производной</span></h3>"
   ]
  },
  {
   "cell_type": "markdown",
   "metadata": {},
   "source": [
    "<span style=\"color:#A7A6A6\">Th 2.</span> Если функции $f$ и $g$ дифференцируемы в точке x, то в этой точке дифференцируема функция $\\sigma (x) = f(x) + g(x)$, при этом \n",
    "$$\\sigma^{'}(x) = f^{'}(x) + g^{'}(x)$$\n",
    "$$\\circ$$\n",
    "$$\\text{Пусть } \\Delta f = f(x + \\Delta x) - f(x); \\Delta g = g(x + \\Delta x) - g(x)$$\n",
    "$$\\text{При } \\Delta x \\to 0 \\text{ : } \\frac{\\Delta f}{\\Delta x} \\to f^{'}(x); \\frac{\\Delta g}{\\Delta x} \\to g^{'}(x)$$\n",
    "$$\\text{Также } f(x + \\Delta x) = f(x) + \\Delta f; \\text{  } g(x + \\Delta x) = g(x) + \\Delta g$$\n",
    "$$\\Delta \\sigma = f(x + \\Delta x) + g(x + \\Delta x) - f(x) - g(x) = \\Delta f + \\Delta g \\Rightarrow$$\n",
    "$$\\Rightarrow \\frac{\\Delta \\sigma}{\\Delta x} = \\frac{\\Delta f}{\\Delta x} + \\frac{\\Delta g}{\\Delta x}$$\n",
    "$$\\lim_{\\Delta x \\to 0} \\frac{\\Delta f}{\\Delta x} + \\frac{\\Delta g}{\\Delta x} = \\lim_{\\Delta x \\to 0}  \\frac{\\Delta f}{\\Delta x} + \\lim_{\\Delta x \\to 0}  \\frac{\\Delta g}{\\Delta x} = f^{'}(x) + g^{'}(x) \\Rightarrow$$\n",
    "$$\\Rightarrow \\lim_{\\Delta x \\to 0} \\frac{\\Delta \\sigma}{\\Delta x} = \\sigma^{'}(x) = f^{'}(x) + g^{'}(x)$$\n",
    "$$\\bullet$$"
   ]
  },
  {
   "cell_type": "markdown",
   "metadata": {},
   "source": [
    "<span style=\"color:#A7A6A6\">Th 3. </span>Если функции $f$ и $g$ дифференцируемы в точке x, то в этой точке дифференцируема функция $\\sigma (x) = f(x) \\cdot g(x)$, при этом \n",
    "$$\\sigma^{'}(x) = f^{'}(x) \\cdot g(x) + f(x) \\cdot g^{'}(x)$$\n",
    "$$\\circ$$\n",
    "$$\\text{Пусть } \\Delta f = f(x + \\Delta x) - f(x); \\Delta g = g(x + \\Delta x) - g(x)$$\n",
    "$$\\text{При } \\Delta x \\to 0 \\text{ : } \\frac{\\Delta f}{\\Delta x} \\to f^{'}(x); \\frac{\\Delta g}{\\Delta x} \\to g^{'}(x)$$\n",
    "$$\\text{Также } f(x + \\Delta x) = f(x) + \\Delta f; \\text{  } g(x + \\Delta x) = g(x) + \\Delta g$$\n",
    "$$\\Delta \\sigma = f(x + \\Delta x) \\cdot g(x + \\Delta x) - f(x) \\cdot g(x) = \\Delta f + \\Delta g = (f(x) + \\Delta f)\\cdot(g(x) + \\Delta g) - f(x)\\cdot g(x) = $$\n",
    "$$ = f(x) \\cdot \\Delta g + g(x) \\cdot \\Delta f + \\Delta f \\cdot \\Delta g$$\n",
    "$$\\frac{\\Delta \\sigma}{\\Delta x} = f(x) \\frac{\\Delta g}{\\Delta x} + g(x) \\frac{\\Delta f}{\\Delta x} + \\frac{\\Delta f \\cdot \\Delta g}{\\Delta x}$$ \n",
    "$$\\text{При } \\Delta x \\to 0 : \\frac{\\Delta f}{\\Delta x} = f^{'}(x); \\text{  } \\frac{\\Delta g}{\\Delta x} = g^{'}(x)$$\n",
    "$$\\lim_{\\Delta x \\to 0} \\frac{\\Delta \\sigma}{\\Delta x} = \\sigma^{'}(x) = \\lim_{\\Delta x \\to 0} (f(x) \\frac{\\Delta g}{\\Delta x} + g(x) \\frac{\\Delta f}{\\Delta x} + \\frac{\\Delta f \\cdot \\Delta g}{\\Delta x}) = f(x) \\cdot g^{'}(x) + f^{'}(x) \\cdot g(x)$$\n",
    "$$\\bullet$$"
   ]
  },
  {
   "cell_type": "markdown",
   "metadata": {},
   "source": [
    "<span style=\"color:#A7A6A6\">Th 4.</span> Если функции $f$ и $g$ дифференцируемы в точке x, то в этой точке дифференцируема функция $\\sigma (x) = \\frac{f(x)}{g(x)}$, при этом \n",
    "$$\\sigma^{'}(x) = \\frac{f^{'}(x) \\cdot g(x) - f(x) \\cdot g^{'}(x)}{{g(x)}^2}$$\n",
    "$$\\circ$$\n",
    "$$\\text{Пусть } \\Delta f = f(x + \\Delta x) - f(x); \\Delta g = g(x + \\Delta x) - g(x)$$\n",
    "$$\\text{При } \\Delta x \\to 0 \\text{ : } \\frac{\\Delta f}{\\Delta x} \\to f^{'}(x); \\frac{\\Delta g}{\\Delta x} \\to g^{'}(x)$$\n",
    "$$\\text{Также } f(x + \\Delta x) = f(x) + \\Delta f; \\text{  } g(x + \\Delta x) = g(x) + \\Delta g$$\n",
    "$$\\Delta \\sigma = \\frac{f(x + \\Delta x)}{g(x + \\Delta x)} - \\frac{f(x)}{g(x)} = \\frac{f(x) + \\Delta f}{g(x) + \\Delta g} - \\frac{f(x)}{g(x)} = \\frac{\\Delta f \\cdot g(x) - \\Delta g \\cdot f(x)}{g(x) \\cdot g(x + \\Delta x)}$$\n",
    "$$\\lim_{\\Delta x \\to 0} g(x + \\Delta x) = g(x)$$\n",
    "$$\\lim_{\\Delta x \\to 0} \\frac{\\Delta \\sigma}{\\Delta x} = \\sigma^{'}(x) = \\lim_{\\Delta x \\to 0}\\frac{\\Delta f \\cdot g(x) - \\Delta g \\cdot f(x)}{g(x) \\cdot g(x + \\Delta x)} = \\frac{f^{'}(x) \\cdot g(x) - f(x) \\cdot g^{'}(x)}{{g(x)^2}}$$\n",
    "$$\\bullet$$"
   ]
  },
  {
   "cell_type": "markdown",
   "metadata": {},
   "source": [
    "Пример 2. Вычислите: \n",
    "$$tg^{'} x, x \\ne \\frac{\\pi}{2} + \\pi k, k \\in \\mathbb{Z}$$\n",
    "$$ctg^{'}x, x \\ne \\pi k, k \\in \\mathbb{Z}$$\n",
    "$$(tg \\text{ }x)^{'} = {(\\frac{\\sin x}{\\cos x})}^{'} = \\frac{(\\sin x)^{'} \\cdot \\cos x - (\\cos x)^{'} \\cdot \\sin x}{\\cos^{2} x} = \\frac{\\cos^{2}x + \\sin^{2}x}{\\cos^{2}x} = \\frac{1}{\\cos^{2}x}$$\n",
    "\n",
    "\n",
    "$$(ctg \\text{ }x)^{'} = \\frac{(\\cos x)^{'} \\cdot \\sin x - (\\sin x)^{'} \\cdot \\cos x}{\\cos^{2}x} = - \\frac{\\sin^{2} x + \\cos^{2} x}{\\cos^{2}x} = -\\frac{1}{\\sin^{2}x}$$\n"
   ]
  },
  {
   "cell_type": "markdown",
   "metadata": {},
   "source": [
    "<h3><span style=\"color: #31E6F0\">Локальный экстремум</span></h3>"
   ]
  },
  {
   "cell_type": "markdown",
   "metadata": {},
   "source": [
    "<span style=\"color:#A7A6A6\">Def. </span> Функция $f(x)$ имеет в точке $x_0$ локальный минимум, если:\n",
    "$$\\exists \\sigma \\gt 0: \\forall x \\in U_{\\sigma}(x): f(x) \\ge f(x_0)$$"
   ]
  },
  {
   "cell_type": "markdown",
   "metadata": {},
   "source": [
    "<span style=\"color:#A7A6A6\">Def. </span> Функция $f(x)$ имеет в точке $x_0$ локальный максимум, если:\n",
    "$$\\exists \\sigma \\gt 0: \\forall x \\in U_{\\sigma}(x): f(x) \\le f(x_0)$$"
   ]
  },
  {
   "cell_type": "markdown",
   "metadata": {},
   "source": [
    "Локальные минимум и максимум объединяются под общим термином - локальный экстремум."
   ]
  },
  {
   "cell_type": "markdown",
   "metadata": {},
   "source": [
    "<b><span style=\"color:#A7A6A6\">Th Ферма</span></b>\n",
    "\n",
    "Если функция $f(x)$ определена на $U_{\\sigma}(x_0)$, имеет локальный экстремум в точке $x_0$ и дифференцируема в этой точке, то\n",
    "$$f^{'}(x_0) = 0$$\n",
    "$$\\circ$$\n",
    "$$\\text{Докажем теорему для локального максимума.}$$\n",
    "$$\\text{Если } f(x) \\text{ имеет локальный минимум в точке } x_0 \\text{ то:}$$ \n",
    "$$\\forall x \\in (x_0 - \\sigma, x_0 + \\sigma) : f(x) \\ge f(x_0) \\Rightarrow f(x) - f(x_0) \\ge 0$$\n",
    "$$\\text{Если } x \\in (x_0 - \\sigma, x_0) : \\frac{f(x) - f(x_0)}{x - x_0} \\le 0; (1)$$\n",
    "$$\\text{Если } x \\in (x_0, x_0 + \\sigma) : \\frac{f(x) - f(x_0)}{x - x_0} \\ge 0; (2)$$\n",
    "$$(1) \\Rightarrow \\lim_{x \\to x_0} \\frac{f(x) - f(x_0)}{x - x_0} = f^{'}(x_0) \\le 0; (3)$$\n",
    "$$(2) \\Rightarrow \\lim_{x \\to x_0} \\frac{f(x) - f(x_0)}{x - x_0} = f^{'}(x_0) \\ge 0; (4)$$\n",
    "$$(3) \\wedge (4) \\Rightarrow f'{x_0} = 0$$\n",
    "$$\\bullet$$"
   ]
  },
  {
   "cell_type": "markdown",
   "metadata": {},
   "source": [
    "<b><span style=\"color:#A7A6A6\">Th Ролля</span></b>\n",
    "\n",
    "Если функция $f(x)$ непрерывна на отрезке $[a, b]$, принимает в концах этого отрезка равные значения, т.е. \n",
    "$$f(a) = f(b)$$\n",
    "\n",
    "и дифференцируема на интервале $(a, b)$, то:\n",
    "\n",
    "$$\\exists \\psi \\in (a, b) : f^{'}(\\psi) = 0$$\n",
    "$$\\circ$$\n",
    "$$\\text{Пусть } M = sup \\text{ } f(x), m = inf \\text{ } f(x), a \\le x \\le b;$$\n",
    "$$\\text{По теореме Вейерштрасса: } \\exists c_1, c_2 \\in [a, b] : f(c_1) = m; f(c_2) = M.$$\n",
    "$$\\text{Если } m = M \\text{, то }\\psi \\text{ - любое значение из интервалa } (a, b).$$ \n",
    "$$\\text{Если } m \\ne M \\text{, то } m \\lt M \\Rightarrow f(c_1) \\lt f(c_2).$$\n",
    "$$\\text{Из условия } f(a) = f(b) \\Rightarrow c_1 \\in (a, b) \\vee c_2 \\in (a, b).$$\n",
    "$$\\text{Пусть } c_1 \\in (a, b) \\Rightarrow \\exists \\sigma > 0: U_{\\sigma}(c1) \\subset (a, b).$$\n",
    "$$\\forall x \\in U_{\\sigma}(c_1): f(x) \\ge f(c1) = m \\Rightarrow \\text{(по теорефе Ферма)} \\Rightarrow f^{'}(c_1) = 0 \\Rightarrow \\psi = c_1$$\n",
    "$$\\bullet$$"
   ]
  },
  {
   "cell_type": "markdown",
   "metadata": {},
   "source": [
    "<b><span style=\"color:#A7A6A6\">Th Лангранжа</span></b>\n",
    "\n",
    "Если функция $f(x)$ непрерывна на отрезке $[a, b]$ и дифференцируема на интервале $(a, b)$, то:\n",
    "$$\\exists \\psi \\in (a, b): f(b) - f(a) = f^{'}(\\psi)\\cdot(b - a)$$\n",
    "\n",
    "$$\\circ$$\n",
    "$$\\text{Рассмотрим функцию } \\sigma(x) = f(x) + \\lambda x \\text{, где }\\lambda \\text{ выберем таким, чтоб выполнялось условие: }$$\n",
    "$$\\sigma(a) = \\sigma(b).$$\n",
    "$$\\sigma(a) = \\sigma(b) \\Rightarrow f(a) + \\lambda a = f(b) + \\lambda b \\Rightarrow \\lambda = -\\frac{f(b) - f(a)}{b - a}$$ \n",
    "$$\\text{Функция } \\sigma(x) \\text{ непрерывна на отрезке } [a, b] \\text{, дифференцируема на интервале } (a, b) \\text{ и } \\sigma(a) = \\sigma(b) \\Rightarrow \\text{(по теореме Ролля)} \\Rightarrow \\exists \\psi \\in (a, b): \\sigma^{'}(\\psi) = f^{'}(\\psi) + \\lambda = 0 \\Rightarrow$$\n",
    "$$\\Rightarrow f^{'}(\\psi) = -\\lambda = \\frac{f(b) - f(a)}{b - a} \\Rightarrow f(b) - f(a) = f^{'}(\\psi) \\cdot (b - a)$$\n",
    "$$\\bullet$$"
   ]
  },
  {
   "cell_type": "markdown",
   "metadata": {},
   "source": [
    "<b><span style=\"color:#A7A6A6\">Th Коши.</span></b>\n",
    "Если функции $f(x)$ и $g(x)$ непрерывны на отрезке $[a, b]$, дифференцируемы на интервале $(a, b)$ и $\\forall x \\in (a, b): g^{'}(x) \\ne 0$, то $\\exists \\psi \\in (a, b) : $    \n",
    "$$\\frac{f(a) - f(b)}{g(а) - g(b)} = \\frac{f^{'}(\\psi)}{g^{'}(\\psi)}$$\n",
    "$$\\circ$$\n",
    "$$\\text{Рассмотрим функцию: } \\sigma(x) = f(x) + \\lambda \\cdot g(x) \\text{, где } \\lambda \\text{ выберем таким, что: } \\sigma(a) = \\sigma(b).$$\n",
    "$$g(a) \\ne g(b) \\Rightarrow \\text{(по теореме Ролля)} \\Rightarrow \\exists c \\in (a, b) : g^{'}(c) = 0 \\text{, что противоречит условию теоремы}$$\n",
    "$$\\sigma(a) = \\sigma(b) \\Rightarrow \\lambda = - \\frac{f(b) - f(a)}{g(b) - g(a)}$$\n",
    "$$\\text{Т.к. функция } \\sigma \\text{ непрерывна на отрезке } [a, b] \\text{, диф. на интервале } (a, b) \\text{ и } \\sigma(a) = \\sigma(b) \\Rightarrow \\text{ (по теореме Ролля) } \\Rightarrow$$\n",
    "$$\\Rightarrow \\exists \\psi \\in (a, b) : \\sigma^{'}(\\psi) = f^{'}(\\psi) + \\lambda \\cdot g^{'}(\\psi) = 0 \\Rightarrow$$\n",
    "$$\\Rightarrow \\frac{f^{'}(\\psi)}{g^{'}(\\psi)} = - \\lambda \\Rightarrow \\frac{f^{'}(\\psi)}{g^{'}(\\psi)} = \\frac{f(a) - f(b)}{g(b) - g(b)}$$\n",
    "$$\\bullet$$"
   ]
  },
  {
   "cell_type": "code",
   "execution_count": null,
   "metadata": {},
   "outputs": [],
   "source": []
  }
 ],
 "metadata": {
  "kernelspec": {
   "display_name": "Python 3",
   "language": "python",
   "name": "python3"
  },
  "language_info": {
   "codemirror_mode": {
    "name": "ipython",
    "version": 3
   },
   "file_extension": ".py",
   "mimetype": "text/x-python",
   "name": "python",
   "nbconvert_exporter": "python",
   "pygments_lexer": "ipython3",
   "version": "3.7.3"
  }
 },
 "nbformat": 4,
 "nbformat_minor": 2
}
