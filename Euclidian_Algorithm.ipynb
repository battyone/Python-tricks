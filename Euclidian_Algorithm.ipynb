{
 "cells": [
  {
   "cell_type": "markdown",
   "metadata": {},
   "source": [
    "<h1>Алгоритм Евклида и линейное представление НОД</h1>"
   ]
  },
  {
   "cell_type": "markdown",
   "metadata": {},
   "source": [
    "<b>Алгоритм Евклида</b> – это алгоритм нахождения наибольшего общего делителя (НОД) пары целых чисел.\n",
    "\n",
    "<b>Наибольший общий делитель (НОД)</b> – это число, которое делит без остатка два числа и делится само без остатка на любой другой делитель данных двух чисел. Проще говоря, это самое большое число, на которое можно без остатка разделить два числа, для которых ищется <b>НОД</b>.\n",
    "\n",
    "Алгоритм нахождения НОД делением для чисел <i>a</i> и <i>b</i> (<i>a</i> > <i>b</i>) \n",
    "- Делим <i>a</i> на <i>b</i>\n",
    "- Если остаток равен нулю, то <i>b</i> и есть <b>НОД</b> (следует выйти из цикла).\n",
    "- Если есть остаток, то <i>a</i> заменяем на <i>b</i>, a <i>b</i> на остаток от деления.\n",
    "- Переходим к пункту 1."
   ]
  },
  {
   "cell_type": "markdown",
   "metadata": {},
   "source": [
    "<b>Доказательство алгоритма Евклида</b>:\n",
    "- числа постоянно уменьшаются $\\Rightarrow$ алгоритм обязательно завершится\n",
    "- т.е. необходимо доказать, что <b>НОД</b>(<i>a</i>, <i>b</i>) = <b>НОД</b>(<i>b</i>, <i>a % b</i>), где <i>a % b</i> - остаток от деления <i>а</i> на <i>b</i>"
   ]
  },
  {
   "cell_type": "markdown",
   "metadata": {},
   "source": [
    "<b>*</b> <i>(a, b)</i> = <b>НОД</b><i>(a, b)</i>"
   ]
  },
  {
   "cell_type": "markdown",
   "metadata": {},
   "source": [
    "$\\forall k,$ $k | a \\wedge k | b:$ $\\exists u, v \\in \\mathbb{Z}: a = ku, b = kv;$"
   ]
  },
  {
   "cell_type": "markdown",
   "metadata": {},
   "source": [
    "$\\exists q, r \\in \\mathbb{Z}: a = qb + r \\Rightarrow r = a - qb = ku - qkv = k(u - qv) \\Rightarrow k | r$"
   ]
  },
  {
   "cell_type": "markdown",
   "metadata": {},
   "source": [
    "Т.е. все пары делителей чисел $a, b$ и $b, r$ совпадают $\\Rightarrow НОД(a, b) = НОД(b, r)$"
   ]
  },
  {
   "cell_type": "markdown",
   "metadata": {},
   "source": [
    "Пример работы алгоритма Эвклида для чисел 45 и 12:\n",
    "\n",
    "45 = 12 * 3 + 9\n",
    "\n",
    "12 = 9 * 1 + 3\n",
    "\n",
    "9 = 3 * 3\n",
    "\n",
    "$НОД(a, b) = 3$"
   ]
  },
  {
   "cell_type": "markdown",
   "metadata": {},
   "source": [
    "Програмируем алгоритм нахождения НОД для $a, b$ $(a > b)$, $a > 0$, $b > 0$"
   ]
  },
  {
   "cell_type": "code",
   "execution_count": 1,
   "metadata": {},
   "outputs": [
    {
     "data": {
      "text/plain": [
       "3"
      ]
     },
     "execution_count": 1,
     "metadata": {},
     "output_type": "execute_result"
    }
   ],
   "source": [
    "def GCD(a, b):\n",
    "    while (b != 0):\n",
    "        a, b = b, a % b\n",
    "        \n",
    "    return a\n",
    "\n",
    "GCD(45, 12)"
   ]
  },
  {
   "cell_type": "markdown",
   "metadata": {},
   "source": [
    "<h2>Линейное представление НОД</h2>"
   ]
  },
  {
   "cell_type": "markdown",
   "metadata": {},
   "source": [
    "<b>Линейное представление НОД</b>:\n",
    "\n",
    "$\\exists u, v \\in \\mathbb{Z} \\text{\\\\{0}}$  : $au + bv = (a, b)$  "
   ]
  },
  {
   "cell_type": "markdown",
   "metadata": {},
   "source": [
    "<b>Доказательство существования линейного представления</b>:"
   ]
  },
  {
   "cell_type": "markdown",
   "metadata": {},
   "source": [
    "Пусть A — множество всех чисел, которые можно получить из a и b с помощью сложения и вычитания. Тогда, если $x\\in A,y\\in A,$  то $x-y\\in A,x+y\\in A$. Так как в алгоритме Евклида\n",
    "\n",
    "  $$r_1=a-bq_1,r_2=b-r_1q_2,r_3=r_1-r_2q_3,\\dots,r_n=r_{n-2}-r_{n-1}q_n,\\$$\n",
    "\n",
    "  $$r_1\\in A\\Longrightarrow r_2\\in A\\Longrightarrow r_3\\in A\\Longrightarrow\\dots\\Longrightarrow r_n\\in A\\wedge r_n = (a, b)$$"
   ]
  },
  {
   "cell_type": "markdown",
   "metadata": {},
   "source": [
    "Если мы запишем все разложения как\n",
    "\n",
    "$a = bq_1 + r_1 \\Rightarrow r_1 = a - qb \\Rightarrow u_1 = 1, u_2 = -q$\n",
    "\n",
    "$b = r_{1}q_2 = r_2 \\Rightarrow r_2 = b - r_{1}q_2 \\Rightarrow u_2  = -q_2; v_2 = -q_{2}u_1 + 1 $ \n",
    "\n",
    "<b>...</b>\n",
    "\n",
    "То сможем вывести закон формирования коэфициентов:\n",
    "\n",
    "$u_n = -q_{n}u_{n-1} + u_{n-2};$  $v_n = -q_{n}v_{n-1} + v_{n-2}$  "
   ]
  },
  {
   "cell_type": "markdown",
   "metadata": {},
   "source": [
    "<b>Cм. также <a href=\"https://ru.wikipedia.org/wiki/%D0%90%D0%BB%D0%B3%D0%BE%D1%80%D0%B8%D1%82%D0%BC_%D0%95%D0%B2%D0%BA%D0%BB%D0%B8%D0%B4%D0%B0\">Расширенный алгоритм Евклида</a></b>"
   ]
  },
  {
   "cell_type": "markdown",
   "metadata": {},
   "source": [
    "Таким образом, для вычисления коэфициентов нам необходимо хранить $u_{n-2}, u_{n-1}, v_{n-2}$ и $v_{n-1}$, используя их для вычисления $u_n$ и $v_n$."
   ]
  },
  {
   "cell_type": "markdown",
   "metadata": {},
   "source": [
    "<b>Программируем нахождение линейного представления НОД для $a > 0, b > 0$</b>"
   ]
  },
  {
   "cell_type": "code",
   "execution_count": 6,
   "metadata": {},
   "outputs": [
    {
     "name": "stdout",
     "output_type": "stream",
     "text": [
      "1*56 + -9*6 = 2\n",
      "5*34 + -7*24 = 2\n",
      "-3*45 + 17*8 = 1\n"
     ]
    }
   ],
   "source": [
    "def linear_representation(a: int, b: int) -> tuple:\n",
    "\n",
    "    # Первое разложение\n",
    "    q = a // b; r = a - q * b\n",
    "    a = b; b = r\n",
    "\n",
    "    # Установка необходимых полей для вычисления континуанты\n",
    "    u_2 = 0\n",
    "    u_1 = 1\n",
    "    u = 1\n",
    "\n",
    "    v_2 = 1\n",
    "    v_1 = -q\n",
    "    v = -q\n",
    "\n",
    "    # Если первое разложения является конечным\n",
    "    if (b == 0):\n",
    "      return u, v + 1\n",
    "\n",
    "    # Алгоритм Эвклида\n",
    "    while (a % b != 0):\n",
    "        q = a // b; r = a - q * b;\n",
    "\n",
    "        a = b; b = r\n",
    "\n",
    "        u = -q * u_1 + u_2\n",
    "        v = -q * v_1 + v_2\n",
    "\n",
    "        u_2 = u_1; u_1 = u\n",
    "        v_2 = v_1; v_1 = v\n",
    "\n",
    "    return u, v\n",
    "\n",
    "# Для наибольшего общего делителя\n",
    "def GCD(a, b):\n",
    "    while (b != 0):\n",
    "        a, b = b, a % b \n",
    "    return a\n",
    "\n",
    "test_data = [(56, 6), (34, 24), (45, 8)]\n",
    "\n",
    "for a, b in test_data:\n",
    "  u, v = linear_representation(a, b)  \n",
    "  print(f\"{u}*{a} + {v}*{b} = {GCD(a, b)}\")"
   ]
  },
  {
   "cell_type": "code",
   "execution_count": null,
   "metadata": {},
   "outputs": [],
   "source": []
  }
 ],
 "metadata": {
  "kernelspec": {
   "display_name": "Python 3",
   "language": "python",
   "name": "python3"
  },
  "language_info": {
   "codemirror_mode": {
    "name": "ipython",
    "version": 3
   },
   "file_extension": ".py",
   "mimetype": "text/x-python",
   "name": "python",
   "nbconvert_exporter": "python",
   "pygments_lexer": "ipython3",
   "version": "3.7.3"
  }
 },
 "nbformat": 4,
 "nbformat_minor": 2
}
