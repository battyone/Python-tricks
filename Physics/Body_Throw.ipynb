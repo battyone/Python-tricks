{
 "cells": [
  {
   "cell_type": "markdown",
   "metadata": {},
   "source": [
    "<h1>Моделирование броска объекта с высоты на Python</h1>"
   ]
  },
  {
   "cell_type": "markdown",
   "metadata": {},
   "source": [
    "<h3>Равноускоренное движение</h3>"
   ]
  },
  {
   "cell_type": "markdown",
   "metadata": {},
   "source": [
    "Разберём физику равноускоренного движения. Допустим, что тело начало двигаться с состояния покоя равноускоренно. Примем ускорение за $a$, а скорость за $v$ и рассмотрим изменение $v$ относительно изменения времени $t$.\n",
    "\n",
    "Условно разделим временной промежуток на равные отрезки и примем их за $\\Delta t$. Если их количество равно $n$, то $\\Delta t \\cdot n = t$.\n",
    "\n",
    "В конце первого промежутка $\\Delta t$ $v_1 = a \\cdot \\Delta t$, после второго $v_2 = 2 \\cdot a \\cdot \\Delta t$ и т.д. Общая формула: $v_n = n \\cdot a \\cdot \\Delta t \\Rightarrow v_n = a \\cdot t$.\n",
    "\n",
    "Следовательно, если у тела была какая-то начальная скорость, а оно двигается равноускоренно с ускорением $a$, то его скорость через $t$ равна  $v = v(t) = v_0 + a \\cdot t$. Этим мы и будем пользоваться в дальнейшем."
   ]
  },
  {
   "cell_type": "markdown",
   "metadata": {},
   "source": [
    "<h3> Бросок тела </h3>"
   ]
  },
  {
   "cell_type": "markdown",
   "metadata": {},
   "source": [
    "Предположим, что мы бросаем тело (примем его за материальную точку, не имеющую массу) с высоты $h$ паралельно земле со начальной скоростю $v_0$. Обозначим вертикальную скорость тела (которая изначально равна 0 и меняется под воздействием силы тяжения) $v_y$ и рассмотрим его изменение в зависимости от $t$. \n",
    "\n",
    "Не будем рассматривать законы притяжения двух тел и примем ускорение свободного падения за $g = 9.81$ (в некоторых задачах для облегчения рассчетов $g$ часто равно 10). $g$ - обычное ускорение, вследствии чего $v_y = g \\cdot t$ (см. Равноускоренное движение). Горизонтальная скорость $v_x$, которую мы сами придаём телу, с истечением времени не изменяется ($v_x = v_0$). \n",
    "\n",
    "Теперь вычислим моментальную скорость тела. Скорость - векторная величина, которая имеет своё направление. Очевидно, что $v_x$ и $v_y$ перпендикулярны между собой, вследствии чего их результирующая скорость равна $v = v(t) = \\sqrt{v_y^2 + v_x^2} = \\sqrt{(gt)^2 + v_0^2}.$"
   ]
  },
  {
   "cell_type": "markdown",
   "metadata": {},
   "source": [
    "<h3>Путь, пройденный под воздействием равноускоренного движения</h3>"
   ]
  },
  {
   "cell_type": "markdown",
   "metadata": {},
   "source": [
    "Мы не знаем формулу, как вычислить путь (обозначим $S$, пройденный телом за время $t$, если оно двигается равноускоренно с ускорением $a$, но мы можем её вывести. Снова разобъём наш временной промежуток на $n$ частей, равных $\\Delta t$.\n",
    "После нулевого промежутка (когда скорость не поменяется) $S_1 = S(t) = v_0 \\cdot \\Delta t$.\n",
    "После первого промежутка, когда скорость увеличилась $S_2 = S(t) = v_0 \\cdot t  + (v_0 + a \\Delta t) \\cdot \\Delta t$. \n",
    "После n-го промежутка, когда скорость увеличивалась n - 1 раз: $S_n = S(t) = v_0 \\cdot \\Delta t + (v_0 + a \\Delta t) \\cdot \\Delta t + \\ldots + (v_0 + (n-1)a \\Delta t) \\cdot \\Delta t$.\n",
    "Преобразуем полученное выражение:\n",
    "$$S_n = S(t) = v_0 \\cdot \\Delta t + (v_0 + a \\Delta t) \\cdot \\Delta t + \\ldots + (v_0 + (n-1)a \\Delta t) \\cdot \\Delta t =$$\n",
    "$$= \\Delta t(v_0 + (v_0 + a \\Delta t) + \\ldots + (v_0 + (n-1)a\\Delta t) = \\Delta t(nv_0 + a \\Delta t + 2a\\Delta t + \\ldots + (n-1)a \\Delta t) =$$\n",
    "$$ = v_0 \\cdot t + \\frac{na\\Delta t^2}{2}(n-1) = v_0 \\cdot t + \\frac{na\\Delta t^2}{2}(\\frac{t - \\Delta t}{\\Delta t}) = v_0 \\cdot t + \\frac{na\\Delta t(t - \\Delta t)}{2} = v_0 \\cdot t + \\frac{at^2 - a\\Delta t}{2}$$\n",
    "Те, кто знаком с определением определённого интеграла, понимают, что мы будем дальше делать. Т.к. скорость увеличивается равномерно, то размер каждого временного промежутка $\\Delta t$ должно стремится к 0. Вычислим границу $S(t)$ при $\\Delta t \\to 0$.\n",
    "$$\\lim_{\\Delta t \\to 0}{S(t)} = \\lim_{\\Delta t \\to 0}{v_0 \\cdot t +  \\frac{at^2 - a\\Delta t}{2}} = \\lim_{\\Delta t \\to 0}{v_0 \\cdot t + \\frac{at^2 - a \\cdot 0}{2}} = v_0 \\cdot t + \\frac{at^2}{2}$$\n",
    "Это и есть конечная формула для расчёта пути при равноускоренном движении.\n"
   ]
  },
  {
   "cell_type": "markdown",
   "metadata": {},
   "source": [
    "<h3> Время полёта и вычисление координат </h3>"
   ]
  },
  {
   "cell_type": "markdown",
   "metadata": {},
   "source": [
    "Из полученной выше формулы, вычислим время полёта, обозначив его $t_{max}$. Полёт длится до тех пор, пока высота, на которой находится тело, не равна нулю. Если высота это $h$, то мы получаем $h = \\frac{g t_{max}^2}{2} \\Rightarrow t_{max} = \\sqrt{\\frac{2h}{g}}$. \n",
    "<br><br>\n",
    "Если мы хотим изобразить график изменения положения тела в системе координат, где (0, 0) - подножье \"горы\", откуда мы кидаем тело, то нам необходимо научиться вычислять координаты тела в этой системе в зависимости от времени. Таким образом мы получаем функцию, заданую параметрически:\n",
    "$$\\begin{cases} x = x(t) = h - \\frac{gt^2}{2}\\\\ y = y(t) = v_0 \\cdot t \\end{cases}$$\n",
    "\n",
    "Начнём с координаты $x$, которая является текущей высотой тела. За время $t$, как мы уже знаем, тело пролетит \"вниз\" ($\\Delta h$) : $\\frac{g t^2}{2}$. В следствии чего, текущая высота тела равна $h = h(t) = h_0 - \\frac{g t^2}{2}$.\n",
    "\n",
    "Координата $y$ зависит только от $v_y$, и потому равна $v_y \\cdot t$.\n",
    "\n",
    "Также давайте вычислим угол наклона вектора результирующей скорости. \n",
    "\n",
    "$$tg(\\alpha) = \\frac{v_y}{v_x} = \\frac{gt}{v_0}$$"
   ]
  },
  {
   "cell_type": "markdown",
   "metadata": {},
   "source": [
    "<h3>Программирование </h3>"
   ]
  },
  {
   "cell_type": "markdown",
   "metadata": {},
   "source": [
    "Теперь запрограммируем функции вычисления текущей координаты тела и моментальной скорости от времени, используя NumPy."
   ]
  },
  {
   "cell_type": "code",
   "execution_count": 1,
   "metadata": {},
   "outputs": [],
   "source": [
    "import numpy as np\n",
    "import matplotlib.pyplot as plt\n",
    "from jupyterthemes import jtplot\n",
    "\n",
    "class Fall(object):\n",
    "    \n",
    "    # выберем более точное значение g\n",
    "    g = 9.8066\n",
    "    \n",
    "    def __init__(self, h, v0):\n",
    "        self.__h = h\n",
    "        self.__v0 = v0\n",
    "        \n",
    "    def y(self, t):\n",
    "        return self.__h - (Fall.g * (t**2))/2\n",
    "    \n",
    "    def x(self, t):\n",
    "        return self.__v0 * t\n",
    "    \n",
    "    def max_time(self):\n",
    "        return np.sqrt(2 * self.__h / Fall.g)        "
   ]
  },
  {
   "cell_type": "markdown",
   "metadata": {},
   "source": [
    "Теперь построим график с помощью matplotlib."
   ]
  },
  {
   "cell_type": "code",
   "execution_count": 2,
   "metadata": {},
   "outputs": [
    {
     "data": {
      "text/plain": [
       "<matplotlib.legend.Legend at 0x9c68080>"
      ]
     },
     "execution_count": 2,
     "metadata": {},
     "output_type": "execute_result"
    },
    {
     "data": {
      "image/png": "[encoded data removed]",
      "text/plain": [
       "<Figure size 1008x504 with 1 Axes>"
      ]
     },
     "metadata": {},
     "output_type": "display_data"
    }
   ],
   "source": [
    "h = 50; v0 = 10;\n",
    "\n",
    "fall = Fall(h, v0)\n",
    "t_max = fall.max_time()\n",
    "\n",
    "jtplot.style('onedork')\n",
    "plt.figure(figsize=(14, 7))\n",
    "plt.ylim([0, h * 1.2])\n",
    "plt.xlim([0, (v0 * t_max) * 1.2])\n",
    "\n",
    "t = np.linspace(0, t_max, 1000)\n",
    "x = fall.x(t)\n",
    "y = fall.y(t)\n",
    "\n",
    "plt.plot(x, y, color='red', linewidth=2, label='$x = x(t)$ \\n $y = y(t)$')\n",
    "plt.legend(loc='upper right', \n",
    "           fontsize=27, \n",
    "           title='Движение тела')"
   ]
  },
  {
   "cell_type": "code",
   "execution_count": null,
   "metadata": {},
   "outputs": [],
   "source": []
  }
 ],
 "metadata": {
  "kernelspec": {
   "display_name": "Python 3",
   "language": "python",
   "name": "python3"
  },
  "language_info": {
   "codemirror_mode": {
    "name": "ipython",
    "version": 3
   },
   "file_extension": ".py",
   "mimetype": "text/x-python",
   "name": "python",
   "nbconvert_exporter": "python",
   "pygments_lexer": "ipython3",
   "version": "3.7.3"
  }
 },
 "nbformat": 4,
 "nbformat_minor": 2
}
