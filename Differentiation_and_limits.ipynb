{
 "cells": [
  {
   "cell_type": "markdown",
   "metadata": {},
   "source": [
    "<h3 align=\"center\">Дифференцирование, нахождение лимита и решение простых уравнений на Python, используя SymPy</h3>"
   ]
  },
  {
   "cell_type": "code",
   "execution_count": 1,
   "metadata": {},
   "outputs": [],
   "source": [
    "from sympy.solvers import solve\n",
    "from sympy import *\n",
    "\n",
    "import matplotlib.pyplot as plt\n",
    "import numpy as np"
   ]
  },
  {
   "cell_type": "markdown",
   "metadata": {},
   "source": [
    "Создадим символ ```x```. Затем объявим функцию ```y(x)```. "
   ]
  },
  {
   "cell_type": "code",
   "execution_count": 2,
   "metadata": {},
   "outputs": [
    {
     "data": {
      "text/latex": [
       "$\\displaystyle \\frac{x^{3}}{3 - x^{2}}$"
      ],
      "text/plain": [
       "x**3/(3 - x**2)"
      ]
     },
     "execution_count": 2,
     "metadata": {},
     "output_type": "execute_result"
    }
   ],
   "source": [
    "x = Symbol('x')\n",
    "y = x**3 / (3 - x**2)\n",
    "y"
   ]
  },
  {
   "cell_type": "markdown",
   "metadata": {},
   "source": [
    "<div class=\"alert alert-block alert-info\">В исследовании функции первая и вторая производная играют огромную роль.</div>"
   ]
  },
  {
   "cell_type": "markdown",
   "metadata": {},
   "source": [
    "Продифференцируем функцию с помощью метода ```diff()```. Т.к. мы дифференцируем по ```x```, то передадим ```x``` в качестве аргумента."
   ]
  },
  {
   "cell_type": "code",
   "execution_count": 3,
   "metadata": {},
   "outputs": [
    {
     "data": {
      "text/latex": [
       "$\\displaystyle \\frac{2 x^{4}}{\\left(3 - x^{2}\\right)^{2}} + \\frac{3 x^{2}}{3 - x^{2}}$"
      ],
      "text/plain": [
       "2*x**4/(3 - x**2)**2 + 3*x**2/(3 - x**2)"
      ]
     },
     "execution_count": 3,
     "metadata": {},
     "output_type": "execute_result"
    }
   ],
   "source": [
    "y_diff = y.diff(x)\n",
    "y_diff"
   ]
  },
  {
   "cell_type": "markdown",
   "metadata": {},
   "source": [
    "Выглядит не очень из-за того, что функция неприведена к общему знаменателю. Позже мы это исправим. Неудивительно, что таким же образом мы можем взять вторую производную."
   ]
  },
  {
   "cell_type": "code",
   "execution_count": 4,
   "metadata": {},
   "outputs": [
    {
     "data": {
      "text/latex": [
       "$\\displaystyle \\frac{2 x \\left(4 x^{4} + 7 x^{2} \\left(3 - x^{2}\\right) + 3 \\left(3 - x^{2}\\right)^{2}\\right)}{\\left(3 - x^{2}\\right)^{3}}$"
      ],
      "text/plain": [
       "2*x*(4*x**4 + 7*x**2*(3 - x**2) + 3*(3 - x**2)**2)/(3 - x**2)**3"
      ]
     },
     "execution_count": 4,
     "metadata": {},
     "output_type": "execute_result"
    }
   ],
   "source": [
    "y_second_diff = y_diff.diff(x)\n",
    "y_second_diff = together(y_second_diff)\n",
    "y_second_diff"
   ]
  },
  {
   "cell_type": "markdown",
   "metadata": {},
   "source": [
    "Мы исправили прошлый недочёт с помощью функции ```together()```, которая приводит выражение к общему знаменателю (кол-во аргументов не ограничено). Теперь найдём корни самой функции, а также её первой производной. Для этого воспользуемся функцией ```solve()``` из подмодуля ```sympy.solvers```."
   ]
  },
  {
   "cell_type": "code",
   "execution_count": 5,
   "metadata": {},
   "outputs": [
    {
     "data": {
      "text/plain": [
       "([0], [-3, 0, 3])"
      ]
     },
     "execution_count": 5,
     "metadata": {},
     "output_type": "execute_result"
    }
   ],
   "source": [
    "y_roots = solve(y)\n",
    "y_diff_roots= solve(y_diff)\n",
    "y_roots, y_diff_roots"
   ]
  },
  {
   "cell_type": "markdown",
   "metadata": {},
   "source": [
    "<div class=\"alert alert-block alert-info\">Если вы хотите решить уравнение типа y(x) = A, то функцию solve() стоит вызвать как solve(y, A), т.е. число, с которым сравнивают выражение, по умолчанию равно нулю.</div>"
   ]
  },
  {
   "cell_type": "markdown",
   "metadata": {},
   "source": [
    "Довольно просто, не правда ли. Перейдём к лимитам. Для этого найдём наклонную асимптоту ```y(x)```, которая имеет вид ```kx + b```, где <b>k</b>:\n",
    "$$\\lim_{x\\to\\infty}{\\frac{f(x)}{x}}$$\n",
    "а <b>b</b>:\n",
    "$$\\lim_{x\\to\\infty}{(f(x) - kx)}$$"
   ]
  },
  {
   "cell_type": "markdown",
   "metadata": {},
   "source": [
    "Чтобы вычислить лимит, воспользуемся функцией ```limit()```. Она принимает такие аргументы: функцию ```f(x)```, ```x``` и точку, к которой стремится ```x```."
   ]
  },
  {
   "cell_type": "code",
   "execution_count": 6,
   "metadata": {},
   "outputs": [
    {
     "data": {
      "text/latex": [
       "$\\displaystyle -1$"
      ],
      "text/plain": [
       "-1"
      ]
     },
     "execution_count": 6,
     "metadata": {},
     "output_type": "execute_result"
    }
   ],
   "source": [
    "k = limit(y / x, x, oo)\n",
    "k"
   ]
  },
  {
   "cell_type": "markdown",
   "metadata": {},
   "source": [
    "<div class=\"alert alert-block alert-info\">oo заменяет символ бесконечности.</div>"
   ]
  },
  {
   "cell_type": "code",
   "execution_count": 7,
   "metadata": {},
   "outputs": [
    {
     "data": {
      "text/latex": [
       "$\\displaystyle 0$"
      ],
      "text/plain": [
       "0"
      ]
     },
     "execution_count": 7,
     "metadata": {},
     "output_type": "execute_result"
    }
   ],
   "source": [
    "b = limit(y - k*x, x, oo)\n",
    "b"
   ]
  },
  {
   "cell_type": "markdown",
   "metadata": {},
   "source": [
    "Теперь построим график ```y(x)``` и проведём асимптоту, дабы убедится в верности своих вычислений."
   ]
  },
  {
   "cell_type": "code",
   "execution_count": 8,
   "metadata": {},
   "outputs": [
    {
     "data": {
      "image/png": "[encoded data removed]",
      "text/plain": [
       "<Figure size 432x288 with 1 Axes>"
      ]
     },
     "metadata": {
      "needs_background": "light"
     },
     "output_type": "display_data"
    }
   ],
   "source": [
    "x_global = np.arange(-4, 4, 0.01)\n",
    "x1 = np.arange(-4., -1.8, 0.01)\n",
    "x2 = np.arange(-1.6, 1.6, 0.01)\n",
    "x3 = np.arange(1.8, 4., 0.01)\n",
    "\n",
    "y = lambdify(x, y, 'numpy')\n",
    "\n",
    "y1 = y(x1)\n",
    "y2 = y(x2)\n",
    "y3 = y(x3)\n",
    "\n",
    "asymptote = k * x_global + b\n",
    "\n",
    "for x_, y_ in zip([x1, x2], [y1, y2]):\n",
    "    plt.plot(x_, y_,\n",
    "            color=\"red\",\n",
    "            linewidth=2)\n",
    "    \n",
    "plt.plot(x3, y3,\n",
    "         color=\"red\",\n",
    "         linewidth=2,\n",
    "         label=r\"$\\frac{x^3}{3 - x^2}$\")    \n",
    "\n",
    "plt.plot(x_global, asymptote,\n",
    "        color='black',\n",
    "        linestyle='--',\n",
    "        linewidth=1)\n",
    "\n",
    "plt.axvline(-sqrt(3), \n",
    "            color='black',\n",
    "            linestyle='--', \n",
    "            linewidth=1)\n",
    "\n",
    "plt.axvline(sqrt(3), \n",
    "            color='black', \n",
    "            linestyle='--', \n",
    "            linewidth=1)\n",
    "\n",
    "plt.legend(loc=\"best\")\n",
    "plt.grid(True)"
   ]
  },
  {
   "cell_type": "markdown",
   "metadata": {},
   "source": [
    "<div class=\"alert alert-block alert-info\">Вся манипуляции с x1, x2 и x3 проведены для того, чтобы исключить вычисление значений функции при аргументах, близких к -√3 и √3 (ведь они являются точками разрыва).</div>"
   ]
  },
  {
   "cell_type": "markdown",
   "metadata": {},
   "source": [
    "Как видите, при значениях $y \\in (-\\infty; -\\sqrt{3}) \\cup (\\sqrt3; \\infty)$ график функции действительно стремится к найденной нами асимптоте, однако не пересекает её."
   ]
  },
  {
   "cell_type": "code",
   "execution_count": null,
   "metadata": {},
   "outputs": [],
   "source": []
  }
 ],
 "metadata": {
  "kernelspec": {
   "display_name": "Python 3",
   "language": "python",
   "name": "python3"
  },
  "language_info": {
   "codemirror_mode": {
    "name": "ipython",
    "version": 3
   },
   "file_extension": ".py",
   "mimetype": "text/x-python",
   "name": "python",
   "nbconvert_exporter": "python",
   "pygments_lexer": "ipython3",
   "version": "3.7.3"
  }
 },
 "nbformat": 4,
 "nbformat_minor": 2
}
